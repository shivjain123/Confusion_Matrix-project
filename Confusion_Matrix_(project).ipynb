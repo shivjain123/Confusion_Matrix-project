{
  "nbformat": 4,
  "nbformat_minor": 0,
  "metadata": {
    "colab": {
      "name": "Confusion Matrix (project).ipynb",
      "provenance": [],
      "authorship_tag": "ABX9TyNJLhf1kSITVaQ9HM0NgDjl",
      "include_colab_link": true
    },
    "kernelspec": {
      "name": "python3",
      "display_name": "Python 3"
    },
    "language_info": {
      "name": "python"
    }
  },
  "cells": [
    {
      "cell_type": "markdown",
      "metadata": {
        "id": "view-in-github",
        "colab_type": "text"
      },
      "source": [
        "<a href=\"https://colab.research.google.com/github/shivjain123/Confusion_Matrix-project/blob/master/Confusion_Matrix_(project).ipynb\" target=\"_parent\"><img src=\"https://colab.research.google.com/assets/colab-badge.svg\" alt=\"Open In Colab\"/></a>"
      ]
    },
    {
      "cell_type": "code",
      "metadata": {
        "id": "-PjeWYvDdFl1"
      },
      "source": [
        "import pandas as p\n",
        "\n",
        "df = p.read_csv(\"https://raw.githubusercontent.com/whitehatjr/datasets/master/c117/BankNote_Authentication.csv\")\n",
        "\n",
        "factors = df[[\"variance\", \"skewness\", \"curtosis\", \"entropy\"]]\n",
        "results = df[\"class\"]"
      ],
      "execution_count": 3,
      "outputs": []
    },
    {
      "cell_type": "code",
      "metadata": {
        "id": "v4z9SNqWi2m3"
      },
      "source": [
        "from sklearn.model_selection import train_test_split\n",
        "from sklearn.preprocessing import StandardScaler\n",
        "from sklearn.linear_model import LogisticRegression as lr\n",
        "\n",
        "factors_train, factors_test, results_train, results_test = train_test_split(factors, results, test_size = 0.25, random_state = 0)\n",
        "\n",
        "st = StandardScaler()\n",
        "\n",
        "factors_train = st.fit_transform(factors_train)\n",
        "factors_test = st.fit_transform(factors_test)\n",
        "\n",
        "classifier = lr(random_state = 0)\n",
        "classifier.fit(factors_train, results_train)"
      ],
      "execution_count": null,
      "outputs": []
    },
    {
      "cell_type": "code",
      "metadata": {
        "id": "VhCTRW_SjGTX"
      },
      "source": [
        "from sklearn.metrics import accuracy_score\n",
        "prediction_results = classifier.predict(factors_test)\n",
        "\n",
        "print(f\"The Accuracy Score is {accuracy_score(results_test, prediction_results)}\")"
      ],
      "execution_count": null,
      "outputs": []
    },
    {
      "cell_type": "code",
      "metadata": {
        "id": "JkLOVo-wjW6q"
      },
      "source": [
        "predicted_values = list()\n",
        "actual_values = list()\n",
        "\n",
        "for p in prediction_results:\n",
        "  if p == 1:\n",
        "    predicted_values.append(\"Authorized\")\n",
        "  else:\n",
        "    predicted_values.append(\"Forged\")\n",
        "\n",
        "for i in (results_test.ravel()):\n",
        "  if i == 1:\n",
        "    actual_values.append(\"Authorized\")\n",
        "  else:\n",
        "    actual_values.append(\"Forged\")"
      ],
      "execution_count": null,
      "outputs": []
    },
    {
      "cell_type": "code",
      "metadata": {
        "colab": {
          "base_uri": "https://localhost:8080/",
          "height": 312
        },
        "id": "9A9rFH0kjwyX",
        "outputId": "c83fae14-0edd-4ff0-cf6f-3016b8cfa904"
      },
      "source": [
        "from sklearn.metrics import confusion_matrix as cfm\n",
        "import matplotlib.pyplot as plt\n",
        "import seaborn as sb\n",
        "\n",
        "labels = [\"Authorized\", \"Forged\"]\n",
        "\n",
        "cm = cfm(actual_values, predicted_values, labels)\n",
        "\n",
        "ax = plt.subplot()\n",
        "sb.heatmap(cm, annot = True, ax = ax)\n",
        "\n",
        "ax.set_xlabel('Predicted')\n",
        "ax.set_ylabel('Actual')\n",
        "ax.set_title('Confusion Matrix')\n",
        "ax.xaxis.set_ticklabels(labels)\n",
        "ax.yaxis.set_ticklabels(labels)"
      ],
      "execution_count": 10,
      "outputs": [
        {
          "output_type": "execute_result",
          "data": {
            "text/plain": [
              "[Text(0, 0.5, 'Authorized'), Text(0, 1.5, 'Forged')]"
            ]
          },
          "metadata": {
            "tags": []
          },
          "execution_count": 10
        },
        {
          "output_type": "display_data",
          "data": {
            "image/png": "[encoded data removed]",
            "text/plain": [
              "<Figure size 432x288 with 2 Axes>"
            ]
          },
          "metadata": {
            "tags": [],
            "needs_background": "light"
          }
        }
      ]
    },
    {
      "cell_type": "code",
      "metadata": {
        "id": "Vjuh7Q-2kMua"
      },
      "source": [
        "accuracy_score = ((1.5e+02)+(1.9e+02))/((1.5e+02)+(1.9e+02)+7+0)\n",
        "\n",
        "print(f\"The Accuracy score is {accuracy_score}\")"
      ],
      "execution_count": null,
      "outputs": []
    }
  ]
}